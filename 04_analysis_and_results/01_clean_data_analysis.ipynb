{
 "cells": [
  {
   "cell_type": "code",
   "execution_count": 24,
   "metadata": {},
   "outputs": [],
   "source": [
    "import numpy as np \n",
    "import pandas as pd \n",
    "import matplotlib.pyplot as plt\n",
    "import statsmodels.api as sm\n",
    "import statsmodels.formula.api as smf"
   ]
  },
  {
   "cell_type": "code",
   "execution_count": 25,
   "metadata": {},
   "outputs": [
    {
     "data": {
      "text/html": [
       "<div>\n",
       "<style scoped>\n",
       "    .dataframe tbody tr th:only-of-type {\n",
       "        vertical-align: middle;\n",
       "    }\n",
       "\n",
       "    .dataframe tbody tr th {\n",
       "        vertical-align: top;\n",
       "    }\n",
       "\n",
       "    .dataframe thead th {\n",
       "        text-align: right;\n",
       "    }\n",
       "</style>\n",
       "<table border=\"1\" class=\"dataframe\">\n",
       "  <thead>\n",
       "    <tr style=\"text-align: right;\">\n",
       "      <th></th>\n",
       "      <th>Date</th>\n",
       "      <th>Time</th>\n",
       "      <th>Day</th>\n",
       "      <th>Station</th>\n",
       "      <th>Code</th>\n",
       "      <th>Min_Delay</th>\n",
       "      <th>Min_Gap</th>\n",
       "      <th>Bound</th>\n",
       "      <th>Line</th>\n",
       "      <th>Year</th>\n",
       "      <th>Month</th>\n",
       "      <th>Category</th>\n",
       "    </tr>\n",
       "  </thead>\n",
       "  <tbody>\n",
       "    <tr>\n",
       "      <th>0</th>\n",
       "      <td>2024-01-01</td>\n",
       "      <td>00:01</td>\n",
       "      <td>Monday</td>\n",
       "      <td>GO PROTOCOL - DANFORTH</td>\n",
       "      <td>MUO</td>\n",
       "      <td>0.0</td>\n",
       "      <td>0.0</td>\n",
       "      <td>NaN</td>\n",
       "      <td>BD</td>\n",
       "      <td>2024</td>\n",
       "      <td>1</td>\n",
       "      <td>Miscellaneous</td>\n",
       "    </tr>\n",
       "    <tr>\n",
       "      <th>1</th>\n",
       "      <td>2024-01-01</td>\n",
       "      <td>00:44</td>\n",
       "      <td>Monday</td>\n",
       "      <td>VAUGHAN MC STATION</td>\n",
       "      <td>MUPAA</td>\n",
       "      <td>0.0</td>\n",
       "      <td>0.0</td>\n",
       "      <td>S</td>\n",
       "      <td>YU</td>\n",
       "      <td>2024</td>\n",
       "      <td>1</td>\n",
       "      <td>Door/Passenger/Platform Incidents</td>\n",
       "    </tr>\n",
       "    <tr>\n",
       "      <th>2</th>\n",
       "      <td>2024-01-01</td>\n",
       "      <td>00:48</td>\n",
       "      <td>Monday</td>\n",
       "      <td>BLOOR STATION</td>\n",
       "      <td>SUO</td>\n",
       "      <td>0.0</td>\n",
       "      <td>0.0</td>\n",
       "      <td>S</td>\n",
       "      <td>YU</td>\n",
       "      <td>2024</td>\n",
       "      <td>1</td>\n",
       "      <td>Security/Policing</td>\n",
       "    </tr>\n",
       "  </tbody>\n",
       "</table>\n",
       "</div>"
      ],
      "text/plain": [
       "         Date   Time     Day                 Station   Code  Min_Delay  \\\n",
       "0  2024-01-01  00:01  Monday  GO PROTOCOL - DANFORTH    MUO        0.0   \n",
       "1  2024-01-01  00:44  Monday      VAUGHAN MC STATION  MUPAA        0.0   \n",
       "2  2024-01-01  00:48  Monday           BLOOR STATION    SUO        0.0   \n",
       "\n",
       "   Min_Gap Bound Line  Year  Month                           Category  \n",
       "0      0.0   NaN   BD  2024      1                      Miscellaneous  \n",
       "1      0.0     S   YU  2024      1  Door/Passenger/Platform Incidents  \n",
       "2      0.0     S   YU  2024      1                  Security/Policing  "
      ]
     },
     "execution_count": 25,
     "metadata": {},
     "output_type": "execute_result"
    }
   ],
   "source": [
    "df = pd.read_csv('../02_data_processing/clean_data/df_delay.csv')\n",
    "df = df.rename(columns={\n",
    "    'Min Gap': 'Min_Gap',\n",
    "    'Min Delay':'Min_Delay'\n",
    "})\n",
    "df.head(3)"
   ]
  },
  {
   "cell_type": "code",
   "execution_count": 34,
   "metadata": {},
   "outputs": [],
   "source": [
    "df['Date'] = pd.to_datetime(df['Date'], format='%Y-%m-%d')\n",
    "df[\"Time\"] = pd.to_datetime(df[\"Time\"], format=\"%H:%M\")\n",
    "# Names to months\n",
    "month_dict = {\n",
    "    1:  'January',\n",
    "    2:  'February',\n",
    "    3:  'March',\n",
    "    4:  'April',\n",
    "    5:  'May',\n",
    "    6:  'June',\n",
    "    7:  'July',\n",
    "    8:  'August',\n",
    "    9:  'September',\n",
    "    10: 'October',\n",
    "    11: 'November',\n",
    "    12: 'December'\n",
    "}\n",
    "\n",
    "#df['Month'] = df['Month'].replace(month_dict)\n",
    "df['Month_name'] = df['Month'].map(month_dict)"
   ]
  },
  {
   "cell_type": "code",
   "execution_count": 35,
   "metadata": {},
   "outputs": [],
   "source": [
    "df[\"Hour\"] = df[\"Time\"].dt.hour"
   ]
  },
  {
   "cell_type": "code",
   "execution_count": 36,
   "metadata": {},
   "outputs": [
    {
     "data": {
      "text/html": [
       "<div>\n",
       "<style scoped>\n",
       "    .dataframe tbody tr th:only-of-type {\n",
       "        vertical-align: middle;\n",
       "    }\n",
       "\n",
       "    .dataframe tbody tr th {\n",
       "        vertical-align: top;\n",
       "    }\n",
       "\n",
       "    .dataframe thead th {\n",
       "        text-align: right;\n",
       "    }\n",
       "</style>\n",
       "<table border=\"1\" class=\"dataframe\">\n",
       "  <thead>\n",
       "    <tr style=\"text-align: right;\">\n",
       "      <th></th>\n",
       "      <th>Date</th>\n",
       "      <th>Time</th>\n",
       "      <th>Day</th>\n",
       "      <th>Station</th>\n",
       "      <th>Code</th>\n",
       "      <th>Min_Delay</th>\n",
       "      <th>Min_Gap</th>\n",
       "      <th>Bound</th>\n",
       "      <th>Line</th>\n",
       "      <th>Year</th>\n",
       "      <th>Month</th>\n",
       "      <th>Category</th>\n",
       "      <th>Month_name</th>\n",
       "      <th>Hour</th>\n",
       "    </tr>\n",
       "  </thead>\n",
       "  <tbody>\n",
       "    <tr>\n",
       "      <th>0</th>\n",
       "      <td>2024-01-01</td>\n",
       "      <td>1900-01-01 00:01:00</td>\n",
       "      <td>Monday</td>\n",
       "      <td>GO PROTOCOL - DANFORTH</td>\n",
       "      <td>MUO</td>\n",
       "      <td>0.0</td>\n",
       "      <td>0.0</td>\n",
       "      <td>NaN</td>\n",
       "      <td>BD</td>\n",
       "      <td>2024</td>\n",
       "      <td>1</td>\n",
       "      <td>Miscellaneous</td>\n",
       "      <td>January</td>\n",
       "      <td>0</td>\n",
       "    </tr>\n",
       "    <tr>\n",
       "      <th>1</th>\n",
       "      <td>2024-01-01</td>\n",
       "      <td>1900-01-01 00:44:00</td>\n",
       "      <td>Monday</td>\n",
       "      <td>VAUGHAN MC STATION</td>\n",
       "      <td>MUPAA</td>\n",
       "      <td>0.0</td>\n",
       "      <td>0.0</td>\n",
       "      <td>S</td>\n",
       "      <td>YU</td>\n",
       "      <td>2024</td>\n",
       "      <td>1</td>\n",
       "      <td>Door/Passenger/Platform Incidents</td>\n",
       "      <td>January</td>\n",
       "      <td>0</td>\n",
       "    </tr>\n",
       "    <tr>\n",
       "      <th>2</th>\n",
       "      <td>2024-01-01</td>\n",
       "      <td>1900-01-01 00:48:00</td>\n",
       "      <td>Monday</td>\n",
       "      <td>BLOOR STATION</td>\n",
       "      <td>SUO</td>\n",
       "      <td>0.0</td>\n",
       "      <td>0.0</td>\n",
       "      <td>S</td>\n",
       "      <td>YU</td>\n",
       "      <td>2024</td>\n",
       "      <td>1</td>\n",
       "      <td>Security/Policing</td>\n",
       "      <td>January</td>\n",
       "      <td>0</td>\n",
       "    </tr>\n",
       "  </tbody>\n",
       "</table>\n",
       "</div>"
      ],
      "text/plain": [
       "        Date                Time     Day                 Station   Code  \\\n",
       "0 2024-01-01 1900-01-01 00:01:00  Monday  GO PROTOCOL - DANFORTH    MUO   \n",
       "1 2024-01-01 1900-01-01 00:44:00  Monday      VAUGHAN MC STATION  MUPAA   \n",
       "2 2024-01-01 1900-01-01 00:48:00  Monday           BLOOR STATION    SUO   \n",
       "\n",
       "   Min_Delay  Min_Gap Bound Line  Year  Month  \\\n",
       "0        0.0      0.0   NaN   BD  2024      1   \n",
       "1        0.0      0.0     S   YU  2024      1   \n",
       "2        0.0      0.0     S   YU  2024      1   \n",
       "\n",
       "                            Category Month_name  Hour  \n",
       "0                      Miscellaneous    January     0  \n",
       "1  Door/Passenger/Platform Incidents    January     0  \n",
       "2                  Security/Policing    January     0  "
      ]
     },
     "execution_count": 36,
     "metadata": {},
     "output_type": "execute_result"
    }
   ],
   "source": [
    "df.head(3)"
   ]
  },
  {
   "cell_type": "code",
   "execution_count": 38,
   "metadata": {},
   "outputs": [],
   "source": [
    "# Divide the Data Frame in Delay and No_delay\n",
    "\n",
    "df_delay = df[df['Min_Delay'] > 0]  # Contains rows where delay is greater than 0\n",
    "df_0 = df[df['Min_Delay'] == 0]  # Contains rows where delay is exactly 0"
   ]
  },
  {
   "cell_type": "code",
   "execution_count": 40,
   "metadata": {},
   "outputs": [
    {
     "name": "stdout",
     "output_type": "stream",
     "text": [
      "                            OLS Regression Results                            \n",
      "==============================================================================\n",
      "Dep. Variable:              Min_Delay   R-squared:                       0.928\n",
      "Model:                            OLS   Adj. R-squared:                  0.928\n",
      "Method:                 Least Squares   F-statistic:                 1.315e+05\n",
      "Date:                Wed, 19 Mar 2025   Prob (F-statistic):               0.00\n",
      "Time:                        22:54:37   Log-Likelihood:                -28897.\n",
      "No. Observations:               10141   AIC:                         5.780e+04\n",
      "Df Residuals:                   10139   BIC:                         5.781e+04\n",
      "Df Model:                           1                                         \n",
      "Covariance Type:            nonrobust                                         \n",
      "==============================================================================\n",
      "                 coef    std err          t      P>|t|      [0.025      0.975]\n",
      "------------------------------------------------------------------------------\n",
      "Intercept     -3.2835      0.052    -63.517      0.000      -3.385      -3.182\n",
      "Min_Gap        0.9621      0.003    362.688      0.000       0.957       0.967\n",
      "==============================================================================\n",
      "Omnibus:                    21852.013   Durbin-Watson:                   1.799\n",
      "Prob(Omnibus):                  0.000   Jarque-Bera (JB):        201508909.282\n",
      "Skew:                          18.904   Prob(JB):                         0.00\n",
      "Kurtosis:                     692.542   Cond. No.                         24.3\n",
      "==============================================================================\n",
      "\n",
      "Notes:\n",
      "[1] Standard Errors assume that the covariance matrix of the errors is correctly specified.\n"
     ]
    }
   ],
   "source": [
    "delay_and_gap = smf.ols('Min_Delay ~ Min_Gap', data = df_delay).fit()\n",
    "print(delay_and_gap.summary())"
   ]
  },
  {
   "cell_type": "code",
   "execution_count": 50,
   "metadata": {},
   "outputs": [
    {
     "data": {
      "image/png": "[encoded data removed]",
      "text/plain": [
       "<Figure size 640x480 with 1 Axes>"
      ]
     },
     "metadata": {},
     "output_type": "display_data"
    }
   ],
   "source": [
    "#delay_category_counts = df_delay[\"Category\"].value_counts().head(10)\n",
    "delay_category_counts = df_delay.groupby(\"Category\")[\"Min_Delay\"].mean().sort_values(ascending=False).head(10)\n",
    "plt.figure()\n",
    "delay_category_counts.plot(kind=\"bar\")\n",
    "plt.title(\"Top 10 Mean Delay by Category\")\n",
    "plt.xlabel(\"Category\")\n",
    "plt.ylabel(\"Delay Min\")\n",
    "plt.show()"
   ]
  },
  {
   "cell_type": "code",
   "execution_count": 47,
   "metadata": {},
   "outputs": [
    {
     "data": {
      "text/plain": [
       "Category\n",
       "Fire/Smoke/Emergency                       39.323529\n",
       "Weather/External                           24.333333\n",
       "Track/Infrastructure/Debris                12.641457\n",
       "Security/Policing                           9.053774\n",
       "Medical/Injury/Safety                       8.828392\n",
       "Mechanical/Electrical/Vehicle Equipment     7.516324\n",
       "Signaling/Communication/Power               6.962741\n",
       "Door/Passenger/Platform Incidents           5.922247\n",
       "Miscellaneous                               5.918675\n",
       "Transportation/Operator                     5.657419\n",
       "Name: Min_Delay, dtype: float64"
      ]
     },
     "execution_count": 47,
     "metadata": {},
     "output_type": "execute_result"
    }
   ],
   "source": [
    "df_delay.groupby(\"Category\")[\"Min_Delay\"].mean().sort_values(ascending=False).head(10)"
   ]
  }
 ],
 "metadata": {
  "kernelspec": {
   "display_name": "dsi_participant",
   "language": "python",
   "name": "python3"
  },
  "language_info": {
   "codemirror_mode": {
    "name": "ipython",
    "version": 3
   },
   "file_extension": ".py",
   "mimetype": "text/x-python",
   "name": "python",
   "nbconvert_exporter": "python",
   "pygments_lexer": "ipython3",
   "version": "3.9.15"
  }
 },
 "nbformat": 4,
 "nbformat_minor": 2
}
