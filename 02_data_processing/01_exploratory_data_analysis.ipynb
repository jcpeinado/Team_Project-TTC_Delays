{
 "cells": [
  {
   "cell_type": "code",
   "execution_count": 1,
   "metadata": {},
   "outputs": [],
   "source": [
    "import numpy as np \n",
    "import pandas as pd \n",
    "import os"
   ]
  },
  {
   "cell_type": "code",
   "execution_count": 13,
   "metadata": {},
   "outputs": [],
   "source": [
    "df_2024 = pd.read_csv(\"../01_raw_data/ttc-subway-delay-data-2024.csv\")\n",
    "\n",
    "df_2025 = pd.read_csv(\"../01_raw_data/TTC Subway Delay Data since 2025.csv\")\n",
    "\n",
    "df_2025 = df_2025.drop(columns='_id')\n",
    "#Dates\n",
    "df_2024['Date'] = pd.to_datetime(df_2024['Date'])\n",
    "df_2025['Date'] = pd.to_datetime(df_2025['Date'], format='%Y-%m-%d')\n",
    "\n",
    "#Combined data frame\n",
    "\n",
    "df = pd.concat([df_2024, df_2025], ignore_index=True)\n",
    "\n",
    "#Droping"
   ]
  },
  {
   "cell_type": "code",
   "execution_count": 14,
   "metadata": {},
   "outputs": [
    {
     "name": "stdout",
     "output_type": "stream",
     "text": [
      "<class 'pandas.core.frame.DataFrame'>\n",
      "RangeIndex: 28571 entries, 0 to 28570\n",
      "Data columns (total 10 columns):\n",
      " #   Column     Non-Null Count  Dtype         \n",
      "---  ------     --------------  -----         \n",
      " 0   Date       28571 non-null  datetime64[ns]\n",
      " 1   Time       28571 non-null  object        \n",
      " 2   Day        28571 non-null  object        \n",
      " 3   Station    28571 non-null  object        \n",
      " 4   Code       28571 non-null  object        \n",
      " 5   Min Delay  27275 non-null  float64       \n",
      " 6   Min Gap    27230 non-null  float64       \n",
      " 7   Bound      18329 non-null  object        \n",
      " 8   Line       28522 non-null  object        \n",
      " 9   Vehicle    27754 non-null  float64       \n",
      "dtypes: datetime64[ns](1), float64(3), object(6)\n",
      "memory usage: 2.2+ MB\n"
     ]
    }
   ],
   "source": [
    "df.info()"
   ]
  },
  {
   "cell_type": "code",
   "execution_count": 16,
   "metadata": {},
   "outputs": [
    {
     "data": {
      "text/plain": [
       "array(['YU', 'BD', 'YUS', 'YU/BD', 'SHP', nan, 'BLOOR DANFORTH',\n",
       "       'YU / BD', 'YU/ BD', 'SRT', 'YUS/BD', 'SHEP', 'LINE 1',\n",
       "       'TRACK LEVEL ACTIVITY', 'YU & BD', '109 RANEE',\n",
       "       'ONGE-UNIVERSITY AND BL', 'YU/BD/SHP', 'BD/ YUS', 'BD/ YU',\n",
       "       'BD/YU', 'BD / YU', '20 CLIFFSIDE'], dtype=object)"
      ]
     },
     "execution_count": 16,
     "metadata": {},
     "output_type": "execute_result"
    }
   ],
   "source": [
    "df['Line'].unique()"
   ]
  },
  {
   "cell_type": "code",
   "execution_count": null,
   "metadata": {},
   "outputs": [
    {
     "data": {
      "text/plain": [
       "array(['YU', 'BD', 'YUS', 'YU/BD', 'SHP', nan, 'BLOOR DANFORTH',\n",
       "       'YU / BD', 'YU/ BD', 'YUS/BD', 'SHEP', 'LINE 1',\n",
       "       'TRACK LEVEL ACTIVITY', 'YU & BD', '109 RANEE',\n",
       "       'ONGE-UNIVERSITY AND BL', 'YU/BD/SHP', 'BD/ YUS', 'BD/ YU',\n",
       "       'BD/YU', 'BD / YU', '20 CLIFFSIDE'], dtype=object)"
      ]
     },
     "execution_count": 18,
     "metadata": {},
     "output_type": "execute_result"
    }
   ],
   "source": [
    "#Removing SRT Line\n",
    "\n",
    "df = df[df['Line'] != 'SRT']\n",
    "df['Line'].unique()"
   ]
  },
  {
   "cell_type": "code",
   "execution_count": null,
   "metadata": {},
   "outputs": [],
   "source": [
    "#df.to_csv(\"df_delays.csv\",index =False)"
   ]
  }
 ],
 "metadata": {
  "kernelspec": {
   "display_name": "dsi_participant",
   "language": "python",
   "name": "python3"
  },
  "language_info": {
   "codemirror_mode": {
    "name": "ipython",
    "version": 3
   },
   "file_extension": ".py",
   "mimetype": "text/x-python",
   "name": "python",
   "nbconvert_exporter": "python",
   "pygments_lexer": "ipython3",
   "version": "3.9.15"
  }
 },
 "nbformat": 4,
 "nbformat_minor": 2
}
