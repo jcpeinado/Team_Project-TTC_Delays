{
 "cells": [
  {
   "cell_type": "code",
   "execution_count": 1,
   "metadata": {},
   "outputs": [],
   "source": [
    "import numpy as np \n",
    "import pandas as pd \n",
    "import os"
   ]
  },
  {
   "cell_type": "code",
   "execution_count": 2,
   "metadata": {},
   "outputs": [
    {
     "data": {
      "text/html": [
       "<div>\n",
       "<style scoped>\n",
       "    .dataframe tbody tr th:only-of-type {\n",
       "        vertical-align: middle;\n",
       "    }\n",
       "\n",
       "    .dataframe tbody tr th {\n",
       "        vertical-align: top;\n",
       "    }\n",
       "\n",
       "    .dataframe thead th {\n",
       "        text-align: right;\n",
       "    }\n",
       "</style>\n",
       "<table border=\"1\" class=\"dataframe\">\n",
       "  <thead>\n",
       "    <tr style=\"text-align: right;\">\n",
       "      <th></th>\n",
       "      <th>Date</th>\n",
       "      <th>Time</th>\n",
       "      <th>Day</th>\n",
       "      <th>Station</th>\n",
       "      <th>Code</th>\n",
       "      <th>Min Delay</th>\n",
       "      <th>Min Gap</th>\n",
       "      <th>Bound</th>\n",
       "      <th>Line</th>\n",
       "      <th>Vehicle</th>\n",
       "    </tr>\n",
       "  </thead>\n",
       "  <tbody>\n",
       "    <tr>\n",
       "      <th>0</th>\n",
       "      <td>2024-01-01</td>\n",
       "      <td>02:00</td>\n",
       "      <td>Monday</td>\n",
       "      <td>SHEPPARD STATION</td>\n",
       "      <td>MUI</td>\n",
       "      <td>0.0</td>\n",
       "      <td>0.0</td>\n",
       "      <td>N</td>\n",
       "      <td>YU</td>\n",
       "      <td>5491.0</td>\n",
       "    </tr>\n",
       "    <tr>\n",
       "      <th>1</th>\n",
       "      <td>2024-01-01</td>\n",
       "      <td>02:00</td>\n",
       "      <td>Monday</td>\n",
       "      <td>DUNDAS STATION</td>\n",
       "      <td>MUIS</td>\n",
       "      <td>0.0</td>\n",
       "      <td>0.0</td>\n",
       "      <td>N</td>\n",
       "      <td>YU</td>\n",
       "      <td>0.0</td>\n",
       "    </tr>\n",
       "    <tr>\n",
       "      <th>2</th>\n",
       "      <td>2024-01-01</td>\n",
       "      <td>02:08</td>\n",
       "      <td>Monday</td>\n",
       "      <td>DUNDAS STATION</td>\n",
       "      <td>MUPAA</td>\n",
       "      <td>4.0</td>\n",
       "      <td>10.0</td>\n",
       "      <td>N</td>\n",
       "      <td>YU</td>\n",
       "      <td>6051.0</td>\n",
       "    </tr>\n",
       "    <tr>\n",
       "      <th>3</th>\n",
       "      <td>2024-01-01</td>\n",
       "      <td>02:13</td>\n",
       "      <td>Monday</td>\n",
       "      <td>KENNEDY BD STATION</td>\n",
       "      <td>PUTDN</td>\n",
       "      <td>10.0</td>\n",
       "      <td>16.0</td>\n",
       "      <td>E</td>\n",
       "      <td>BD</td>\n",
       "      <td>5284.0</td>\n",
       "    </tr>\n",
       "    <tr>\n",
       "      <th>4</th>\n",
       "      <td>2024-01-01</td>\n",
       "      <td>02:22</td>\n",
       "      <td>Monday</td>\n",
       "      <td>BLOOR STATION</td>\n",
       "      <td>MUPAA</td>\n",
       "      <td>4.0</td>\n",
       "      <td>10.0</td>\n",
       "      <td>N</td>\n",
       "      <td>YU</td>\n",
       "      <td>5986.0</td>\n",
       "    </tr>\n",
       "  </tbody>\n",
       "</table>\n",
       "</div>"
      ],
      "text/plain": [
       "        Date   Time     Day             Station   Code  Min Delay  Min Gap  \\\n",
       "0 2024-01-01  02:00  Monday    SHEPPARD STATION    MUI        0.0      0.0   \n",
       "1 2024-01-01  02:00  Monday      DUNDAS STATION   MUIS        0.0      0.0   \n",
       "2 2024-01-01  02:08  Monday      DUNDAS STATION  MUPAA        4.0     10.0   \n",
       "3 2024-01-01  02:13  Monday  KENNEDY BD STATION  PUTDN       10.0     16.0   \n",
       "4 2024-01-01  02:22  Monday       BLOOR STATION  MUPAA        4.0     10.0   \n",
       "\n",
       "  Bound Line  Vehicle  \n",
       "0     N   YU   5491.0  \n",
       "1     N   YU      0.0  \n",
       "2     N   YU   6051.0  \n",
       "3     E   BD   5284.0  \n",
       "4     N   YU   5986.0  "
      ]
     },
     "execution_count": 2,
     "metadata": {},
     "output_type": "execute_result"
    }
   ],
   "source": [
    "#concatenate data for years 2024 and 2025\n",
    "df_2024 = pd.read_csv(\"../01_raw_data/ttc-subway-delay-data-2024.csv\")\n",
    "\n",
    "df_2025 = pd.read_csv(\"../01_raw_data/TTC Subway Delay Data since 2025.csv\")\n",
    "\n",
    "df_2025 = df_2025.drop(columns='_id')\n",
    "#Dates\n",
    "df_2024['Date'] = pd.to_datetime(df_2024['Date'])\n",
    "df_2025['Date'] = pd.to_datetime(df_2025['Date'], format='%Y-%m-%d')\n",
    "\n",
    "#Combined data frame\n",
    "\n",
    "df = pd.concat([df_2024, df_2025], ignore_index=True)\n",
    "df.head()\n",
    "#Droping"
   ]
  },
  {
   "cell_type": "code",
   "execution_count": 3,
   "metadata": {},
   "outputs": [
    {
     "name": "stdout",
     "output_type": "stream",
     "text": [
      "<class 'pandas.core.frame.DataFrame'>\n",
      "RangeIndex: 28571 entries, 0 to 28570\n",
      "Data columns (total 10 columns):\n",
      " #   Column     Non-Null Count  Dtype         \n",
      "---  ------     --------------  -----         \n",
      " 0   Date       28571 non-null  datetime64[ns]\n",
      " 1   Time       28571 non-null  object        \n",
      " 2   Day        28571 non-null  object        \n",
      " 3   Station    28571 non-null  object        \n",
      " 4   Code       28571 non-null  object        \n",
      " 5   Min Delay  27275 non-null  float64       \n",
      " 6   Min Gap    27230 non-null  float64       \n",
      " 7   Bound      18329 non-null  object        \n",
      " 8   Line       28522 non-null  object        \n",
      " 9   Vehicle    27754 non-null  float64       \n",
      "dtypes: datetime64[ns](1), float64(3), object(6)\n",
      "memory usage: 2.2+ MB\n"
     ]
    }
   ],
   "source": [
    "df.info()"
   ]
  },
  {
   "cell_type": "code",
   "execution_count": 4,
   "metadata": {},
   "outputs": [
    {
     "data": {
      "text/plain": [
       "array(['YU', 'BD', 'YUS', 'YU/BD', 'SHP', nan, 'BLOOR DANFORTH',\n",
       "       'YU / BD', 'YU/ BD', 'SRT', 'YUS/BD', 'SHEP', 'LINE 1',\n",
       "       'TRACK LEVEL ACTIVITY', 'YU & BD', '109 RANEE',\n",
       "       'ONGE-UNIVERSITY AND BL', 'YU/BD/SHP', 'BD/ YUS', 'BD/ YU',\n",
       "       'BD/YU', 'BD / YU', '20 CLIFFSIDE'], dtype=object)"
      ]
     },
     "execution_count": 4,
     "metadata": {},
     "output_type": "execute_result"
    }
   ],
   "source": [
    "df['Line'].unique()"
   ]
  },
  {
   "cell_type": "code",
   "execution_count": 5,
   "metadata": {},
   "outputs": [
    {
     "data": {
      "text/plain": [
       "array(['YU', 'BD', 'YUS', 'YU/BD', 'SHP', nan, 'BLOOR DANFORTH',\n",
       "       'YU / BD', 'YU/ BD', 'YUS/BD', 'SHEP', 'LINE 1',\n",
       "       'TRACK LEVEL ACTIVITY', 'YU & BD', '109 RANEE',\n",
       "       'ONGE-UNIVERSITY AND BL', 'YU/BD/SHP', 'BD/ YUS', 'BD/ YU',\n",
       "       'BD/YU', 'BD / YU', '20 CLIFFSIDE'], dtype=object)"
      ]
     },
     "execution_count": 5,
     "metadata": {},
     "output_type": "execute_result"
    }
   ],
   "source": [
    "#Removing SRT Line\n",
    "\n",
    "df = df[df['Line'] != 'SRT']\n",
    "df['Line'].unique()"
   ]
  },
  {
   "cell_type": "code",
   "execution_count": 6,
   "metadata": {},
   "outputs": [
    {
     "name": "stdout",
     "output_type": "stream",
     "text": [
      "<class 'pandas.core.frame.DataFrame'>\n",
      "Index: 28569 entries, 0 to 28570\n",
      "Data columns (total 10 columns):\n",
      " #   Column     Non-Null Count  Dtype         \n",
      "---  ------     --------------  -----         \n",
      " 0   Date       28569 non-null  datetime64[ns]\n",
      " 1   Time       28569 non-null  object        \n",
      " 2   Day        28569 non-null  object        \n",
      " 3   Station    28569 non-null  object        \n",
      " 4   Code       28569 non-null  object        \n",
      " 5   Min Delay  27273 non-null  float64       \n",
      " 6   Min Gap    27228 non-null  float64       \n",
      " 7   Bound      18329 non-null  object        \n",
      " 8   Line       28520 non-null  object        \n",
      " 9   Vehicle    27752 non-null  float64       \n",
      "dtypes: datetime64[ns](1), float64(3), object(6)\n",
      "memory usage: 2.4+ MB\n"
     ]
    }
   ],
   "source": [
    "df.info()"
   ]
  },
  {
   "cell_type": "code",
   "execution_count": 7,
   "metadata": {},
   "outputs": [
    {
     "name": "stdout",
     "output_type": "stream",
     "text": [
      "Date             0\n",
      "Time             0\n",
      "Day              0\n",
      "Station          0\n",
      "Code             0\n",
      "Min Delay     1296\n",
      "Min Gap       1341\n",
      "Bound        10240\n",
      "Line            49\n",
      "Vehicle        817\n",
      "dtype: int64\n"
     ]
    }
   ],
   "source": [
    " #count isnull values per column\n",
    "print(df.isnull().sum())"
   ]
  },
  {
   "cell_type": "code",
   "execution_count": 28,
   "metadata": {},
   "outputs": [],
   "source": [
    "#drop 'Bound' isnull\n",
    "df_cleaned = df.dropna(subset=['Bound','Vehicle','Line', 'Min Delay', 'Min Gap'])"
   ]
  },
  {
   "cell_type": "code",
   "execution_count": 29,
   "metadata": {},
   "outputs": [
    {
     "name": "stdout",
     "output_type": "stream",
     "text": [
      "Date         0\n",
      "Time         0\n",
      "Day          0\n",
      "Station      0\n",
      "Code         0\n",
      "Min Delay    0\n",
      "Min Gap      0\n",
      "Bound        0\n",
      "Line         0\n",
      "Vehicle      0\n",
      "dtype: int64\n"
     ]
    }
   ],
   "source": [
    " #count isnull values per column\n",
    "print(df_cleaned.isnull().sum())"
   ]
  },
  {
   "cell_type": "code",
   "execution_count": 30,
   "metadata": {},
   "outputs": [
    {
     "name": "stderr",
     "output_type": "stream",
     "text": [
      "C:\\Users\\User\\AppData\\Local\\Temp\\ipykernel_8220\\1789164535.py:2: SettingWithCopyWarning: \n",
      "A value is trying to be set on a copy of a slice from a DataFrame.\n",
      "Try using .loc[row_indexer,col_indexer] = value instead\n",
      "\n",
      "See the caveats in the documentation: https://pandas.pydata.org/pandas-docs/stable/user_guide/indexing.html#returning-a-view-versus-a-copy\n",
      "  df_cleaned['Date'] = pd.to_datetime(df_cleaned['Date'])\n"
     ]
    }
   ],
   "source": [
    "# Converting 'datetime' column to datetime format\n",
    "df_cleaned['Date'] = pd.to_datetime(df_cleaned['Date'])"
   ]
  },
  {
   "cell_type": "code",
   "execution_count": 31,
   "metadata": {},
   "outputs": [
    {
     "name": "stdout",
     "output_type": "stream",
     "text": [
      "        Date   Time     Day             Station   Code  Min Delay  Min Gap  \\\n",
      "0 2024-01-01  02:00  Monday    SHEPPARD STATION    MUI        0.0      0.0   \n",
      "1 2024-01-01  02:00  Monday      DUNDAS STATION   MUIS        0.0      0.0   \n",
      "2 2024-01-01  02:08  Monday      DUNDAS STATION  MUPAA        4.0     10.0   \n",
      "3 2024-01-01  02:13  Monday  KENNEDY BD STATION  PUTDN       10.0     16.0   \n",
      "4 2024-01-01  02:22  Monday       BLOOR STATION  MUPAA        4.0     10.0   \n",
      "\n",
      "  Bound Line  Vehicle  Month  \n",
      "0     N   YU   5491.0      1  \n",
      "1     N   YU      0.0      1  \n",
      "2     N   YU   6051.0      1  \n",
      "3     E   BD   5284.0      1  \n",
      "4     N   YU   5986.0      1  \n"
     ]
    },
    {
     "name": "stderr",
     "output_type": "stream",
     "text": [
      "C:\\Users\\User\\AppData\\Local\\Temp\\ipykernel_8220\\3990411749.py:2: SettingWithCopyWarning: \n",
      "A value is trying to be set on a copy of a slice from a DataFrame.\n",
      "Try using .loc[row_indexer,col_indexer] = value instead\n",
      "\n",
      "See the caveats in the documentation: https://pandas.pydata.org/pandas-docs/stable/user_guide/indexing.html#returning-a-view-versus-a-copy\n",
      "  df_cleaned['Month'] = df_cleaned['Date'].dt.month\n"
     ]
    }
   ],
   "source": [
    "# Creating new features from 'Date' column\n",
    "df_cleaned['Month'] = df_cleaned['Date'].dt.month\n",
    "print(df_cleaned.head())"
   ]
  },
  {
   "cell_type": "code",
   "execution_count": 32,
   "metadata": {},
   "outputs": [
    {
     "name": "stdout",
     "output_type": "stream",
     "text": [
      "    Delay Code                                 Category  \\\n",
      "0         EUAC  Mechanical/Electrical/Vehicle Equipment   \n",
      "1         EUAL  Mechanical/Electrical/Vehicle Equipment   \n",
      "2        EUATC  Mechanical/Electrical/Vehicle Equipment   \n",
      "3         EUBK  Mechanical/Electrical/Vehicle Equipment   \n",
      "4         EUBO  Mechanical/Electrical/Vehicle Equipment   \n",
      "..         ...                                      ...   \n",
      "124        TUS                  Transportation/Operator   \n",
      "125       TUSC                  Transportation/Operator   \n",
      "126      TUSET                  Transportation/Operator   \n",
      "127       TUST                         Weather/External   \n",
      "128      TUSUP                  Transportation/Operator   \n",
      "\n",
      "                                           Description  \n",
      "0           Train HVAC malfunction or underperformance  \n",
      "1      Issues with onboard or wayside AC power systems  \n",
      "2    ATC equipment malfunction related to Rail Cars...  \n",
      "3          Faulty brake components or pneumatic issues  \n",
      "4        Structural or body-related train car problems  \n",
      "..                                                 ...  \n",
      "124                   Crew unable to maintain schedule  \n",
      "125     Operator overspeeding or ignoring speed limits  \n",
      "126                Train controls improperly shut down  \n",
      "127  Storm trains or slow orders due to severe weather  \n",
      "128       Supervisory error causing service disruption  \n",
      "\n",
      "[129 rows x 3 columns]\n"
     ]
    }
   ],
   "source": [
    "# add dataset for Code categories\n",
    "df_code = pd.read_csv(\"../02_data_processing/code_category_description.csv\")\n",
    "print(df_code)\n"
   ]
  },
  {
   "cell_type": "code",
   "execution_count": 33,
   "metadata": {},
   "outputs": [
    {
     "name": "stdout",
     "output_type": "stream",
     "text": [
      "<class 'pandas.core.frame.DataFrame'>\n",
      "RangeIndex: 129 entries, 0 to 128\n",
      "Data columns (total 3 columns):\n",
      " #   Column       Non-Null Count  Dtype \n",
      "---  ------       --------------  ----- \n",
      " 0   Delay Code   129 non-null    object\n",
      " 1   Category     129 non-null    object\n",
      " 2   Description  129 non-null    object\n",
      "dtypes: object(3)\n",
      "memory usage: 3.1+ KB\n"
     ]
    }
   ],
   "source": [
    "df_code.info()"
   ]
  },
  {
   "cell_type": "code",
   "execution_count": 34,
   "metadata": {},
   "outputs": [],
   "source": [
    "# Adding 'Category' column from df_code to df_cleanese based on 'Deay code'\n",
    "df_delay = pd.merge(df_cleaned, df_code[['Delay Code', 'Category']], left_on='Code', right_on = 'Delay Code',how='left')"
   ]
  },
  {
   "cell_type": "code",
   "execution_count": 35,
   "metadata": {},
   "outputs": [
    {
     "name": "stdout",
     "output_type": "stream",
     "text": [
      "<class 'pandas.core.frame.DataFrame'>\n",
      "RangeIndex: 17692 entries, 0 to 17691\n",
      "Data columns (total 13 columns):\n",
      " #   Column      Non-Null Count  Dtype         \n",
      "---  ------      --------------  -----         \n",
      " 0   Date        17692 non-null  datetime64[ns]\n",
      " 1   Time        17692 non-null  object        \n",
      " 2   Day         17692 non-null  object        \n",
      " 3   Station     17692 non-null  object        \n",
      " 4   Code        17692 non-null  object        \n",
      " 5   Min Delay   17692 non-null  float64       \n",
      " 6   Min Gap     17692 non-null  float64       \n",
      " 7   Bound       17692 non-null  object        \n",
      " 8   Line        17692 non-null  object        \n",
      " 9   Vehicle     17692 non-null  float64       \n",
      " 10  Month       17692 non-null  int32         \n",
      " 11  Delay Code  17650 non-null  object        \n",
      " 12  Category    17650 non-null  object        \n",
      "dtypes: datetime64[ns](1), float64(3), int32(1), object(8)\n",
      "memory usage: 1.7+ MB\n"
     ]
    }
   ],
   "source": [
    "df_delay.info()"
   ]
  },
  {
   "cell_type": "code",
   "execution_count": 36,
   "metadata": {},
   "outputs": [
    {
     "name": "stdout",
     "output_type": "stream",
     "text": [
      "        Date   Time     Day             Station   Code  Min Delay  Min Gap  \\\n",
      "0 2024-01-01  02:00  Monday    SHEPPARD STATION    MUI        0.0      0.0   \n",
      "1 2024-01-01  02:00  Monday      DUNDAS STATION   MUIS        0.0      0.0   \n",
      "2 2024-01-01  02:08  Monday      DUNDAS STATION  MUPAA        4.0     10.0   \n",
      "3 2024-01-01  02:13  Monday  KENNEDY BD STATION  PUTDN       10.0     16.0   \n",
      "4 2024-01-01  02:22  Monday       BLOOR STATION  MUPAA        4.0     10.0   \n",
      "\n",
      "  Bound Line  Vehicle  Month Delay Code                           Category  \n",
      "0     N   YU   5491.0      1        MUI              Medical/Injury/Safety  \n",
      "1     N   YU      0.0      1       MUIS              Medical/Injury/Safety  \n",
      "2     N   YU   6051.0      1      MUPAA  Door/Passenger/Platform Incidents  \n",
      "3     E   BD   5284.0      1      PUTDN        Track/Infrastructure/Debris  \n",
      "4     N   YU   5986.0      1      MUPAA  Door/Passenger/Platform Incidents  \n"
     ]
    }
   ],
   "source": [
    "# Printing new dataframe after creation of new features\n",
    "print(df_delay.head())"
   ]
  },
  {
   "cell_type": "code",
   "execution_count": 44,
   "metadata": {},
   "outputs": [
    {
     "name": "stdout",
     "output_type": "stream",
     "text": [
      "Dataset has been saved to: ../01_raw_data/df_delay.csv\n"
     ]
    }
   ],
   "source": [
    "# Specify the file path where the dataset should be saved\n",
    "file_path = '../01_raw_data/df_delay.csv'  \n",
    "\n",
    "# Save the dataset as a CSV file\n",
    "df_delay.to_csv(file_path, index=False)\n",
    "\n",
    "print(f\"Dataset has been saved to: {file_path}\")"
   ]
  },
  {
   "cell_type": "code",
   "execution_count": null,
   "metadata": {},
   "outputs": [],
   "source": []
  }
 ],
 "metadata": {
  "kernelspec": {
   "display_name": "dsi_participant",
   "language": "python",
   "name": "python3"
  },
  "language_info": {
   "codemirror_mode": {
    "name": "ipython",
    "version": 3
   },
   "file_extension": ".py",
   "mimetype": "text/x-python",
   "name": "python",
   "nbconvert_exporter": "python",
   "pygments_lexer": "ipython3",
   "version": "3.9.15"
  }
 },
 "nbformat": 4,
 "nbformat_minor": 2
}
